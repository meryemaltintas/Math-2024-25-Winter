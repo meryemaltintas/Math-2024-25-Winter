{
  "cells": [
    {
      "cell_type": "markdown",
      "metadata": {
        "id": "view-in-github",
        "colab_type": "text"
      },
      "source": [
        "<a href=\"https://colab.research.google.com/github/meryemaltintas/Math-2024-25-Winter/blob/main/Meryem_LA_Matrix_inversion_by_formula_.ipynb\" target=\"_parent\"><img src=\"https://colab.research.google.com/assets/colab-badge.svg\" alt=\"Open In Colab\"/></a>"
      ]
    },
    {
      "cell_type": "code",
      "execution_count": null,
      "id": "5a1bf77e",
      "metadata": {
        "id": "5a1bf77e",
        "outputId": "49669de5-e0b0-46b4-877f-1d23c9defadb"
      },
      "outputs": [
        {
          "name": "stdout",
          "output_type": "stream",
          "text": [
            "Inverse of the matrix:\n",
            "[[ 0. -2.  1.]\n",
            " [ 0.  1.  0.]\n",
            " [ 1.  4. -2.]]\n",
            "\n",
            "Verification (Matrix * Inverse = Identity):\n",
            "[[1. 0. 0.]\n",
            " [0. 1. 0.]\n",
            " [0. 0. 1.]]\n",
            "\n",
            "Determinant of matrix A: -251.9999999999998\n",
            "Rank of matrix A: 3\n"
          ]
        }
      ],
      "source": [
        "import numpy as np\n",
        "\n",
        "# 1. Inverse of the first matrix\n",
        "matrix_1 = np.array([[2, 0, 1],\n",
        "                     [0, 1, 0],\n",
        "                     [1, 2, 0]])\n",
        "\n",
        "inverse_matrix_1 = np.linalg.inv(matrix_1)\n",
        "\n",
        "# Verifying if the inverse is correct by multiplying the matrix with its inverse\n",
        "identity_matrix = np.dot(matrix_1, inverse_matrix_1)\n",
        "\n",
        "print(\"Inverse of the matrix:\")\n",
        "print(inverse_matrix_1)\n",
        "print(\"\\nVerification (Matrix * Inverse = Identity):\")\n",
        "print(identity_matrix)\n",
        "\n",
        "# 2. Determinant and rank of matrix A\n",
        "A = np.array([[4, -3, 7],\n",
        "              [-1, 6, 3],\n",
        "              [2, 9, 1]])\n",
        "\n",
        "det_A = np.linalg.det(A)\n",
        "rank_A = np.linalg.matrix_rank(A)\n",
        "\n",
        "print(\"\\nDeterminant of matrix A:\", det_A)\n",
        "print(\"Rank of matrix A:\", rank_A)"
      ]
    },
    {
      "cell_type": "code",
      "execution_count": null,
      "id": "e15b4f46",
      "metadata": {
        "id": "e15b4f46"
      },
      "outputs": [],
      "source": []
    }
  ],
  "metadata": {
    "kernelspec": {
      "display_name": "Python 3",
      "language": "python",
      "name": "python3"
    },
    "language_info": {
      "codemirror_mode": {
        "name": "ipython",
        "version": 3
      },
      "file_extension": ".py",
      "mimetype": "text/x-python",
      "name": "python",
      "nbconvert_exporter": "python",
      "pygments_lexer": "ipython3",
      "version": "3.8.8"
    },
    "colab": {
      "provenance": [],
      "include_colab_link": true
    }
  },
  "nbformat": 4,
  "nbformat_minor": 5
}