{
  "cells": [
    {
      "cell_type": "markdown",
      "metadata": {
        "id": "view-in-github",
        "colab_type": "text"
      },
      "source": [
        "<a href=\"https://colab.research.google.com/github/meryemaltintas/Math-2024-25-Winter/blob/main/Meryem_Linear_Algebra_01_Matrices_LA_Matrix_basic_operations.ipynb\" target=\"_parent\"><img src=\"https://colab.research.google.com/assets/colab-badge.svg\" alt=\"Open In Colab\"/></a>"
      ]
    },
    {
      "cell_type": "code",
      "execution_count": null,
      "id": "43f7fb89",
      "metadata": {
        "id": "43f7fb89",
        "outputId": "364a806c-fb8f-44c5-d1e7-03ed9fe78ad8"
      },
      "outputs": [
        {
          "name": "stdout",
          "output_type": "stream",
          "text": [
            "1. Sum of A and B:\n",
            " [[ 6  8]\n",
            " [10 12]]\n",
            "\n",
            "2. Product of matrix A and scalar 1/4:\n",
            " [[1.  0.5]\n",
            " [3.  1. ]]\n",
            "\n",
            "3. Product A * B:\n",
            " [[24 11]\n",
            " [32 18]]\n",
            "\n",
            "Product B * A:\n",
            " [[14 12]\n",
            " [26 28]]\n"
          ]
        }
      ],
      "source": [
        " import numpy as np\n",
        "\n",
        "# 1. Calculate the sum of matrices A and B\n",
        "A1 = np.array([[1, 2], [3, 4]])\n",
        "B1 = np.array([[5, 6], [7, 8]])\n",
        "\n",
        "sum_AB = A1 + B1\n",
        "print(\"1. Sum of A and B:\\n\", sum_AB)\n",
        "\n",
        "# 2. Calculate the product of matrix A and scalar k = 1/4\n",
        "A2 = np.array([[4, 2], [12, 4]])\n",
        "k = 1/4\n",
        "\n",
        "scalar_product = A2 * k\n",
        "print(\"\\n2. Product of matrix A and scalar 1/4:\\n\", scalar_product)\n",
        "\n",
        "# 3. Calculate the products A * B and B * A\n",
        "A3 = np.array([[3, 2], [2, 4]])\n",
        "B3 = np.array([[4, 1], [6, 4]])\n",
        "\n",
        "product_AB = np.dot(A3, B3)\n",
        "product_BA = np.dot(B3, A3)\n",
        "\n",
        "print(\"\\n3. Product A * B:\\n\", product_AB)\n",
        "print(\"\\nProduct B * A:\\n\", product_BA)"
      ]
    }
  ],
  "metadata": {
    "kernelspec": {
      "display_name": "Python 3",
      "language": "python",
      "name": "python3"
    },
    "language_info": {
      "codemirror_mode": {
        "name": "ipython",
        "version": 3
      },
      "file_extension": ".py",
      "mimetype": "text/x-python",
      "name": "python",
      "nbconvert_exporter": "python",
      "pygments_lexer": "ipython3",
      "version": "3.8.8"
    },
    "colab": {
      "provenance": [],
      "include_colab_link": true
    }
  },
  "nbformat": 4,
  "nbformat_minor": 5
}