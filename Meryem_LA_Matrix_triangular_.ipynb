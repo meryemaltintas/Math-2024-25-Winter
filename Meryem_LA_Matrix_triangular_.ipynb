{
  "cells": [
    {
      "cell_type": "markdown",
      "metadata": {
        "id": "view-in-github",
        "colab_type": "text"
      },
      "source": [
        "<a href=\"https://colab.research.google.com/github/meryemaltintas/Math-2024-25-Winter/blob/main/Meryem_LA_Matrix_triangular_.ipynb\" target=\"_parent\"><img src=\"https://colab.research.google.com/assets/colab-badge.svg\" alt=\"Open In Colab\"/></a>"
      ]
    },
    {
      "cell_type": "code",
      "execution_count": null,
      "id": "41a8bd8d",
      "metadata": {
        "id": "41a8bd8d"
      },
      "outputs": [],
      "source": [
        "import numpy as np\n",
        "\n",
        "# Define the matrices A and B\n",
        "A = np.array([[12, 3],\n",
        "              [-18, -4]])\n",
        "\n",
        "B = np.array([[1, 2, 3],\n",
        "              [4, 5, 6],\n",
        "              [7, 8, 9]])\n",
        "\n",
        "# Function to perform Gaussian elimination and reduce matrix to upper triangular form\n",
        "def upper_triangular(matrix):\n",
        "    n = len(matrix)\n",
        "    for i in range(n):\n",
        "        # Make the diagonal contain all 1's\n",
        "        factor = matrix[i, i]\n",
        "        matrix[i] = matrix[i] / factor\n",
        "\n",
        "        # Make the elements below the diagonal 0\n",
        "        for j in range(i + 1, n):\n",
        "            factor = matrix[j, i]\n",
        "            matrix[j] = matrix[j] - factor * matrix[i]\n",
        "    return matrix\n",
        "\n",
        "# Function to calculate determinant by multiplying the diagonal elements\n",
        "def determinant_from_upper(matrix):\n",
        "    return np.prod(np.diag(matrix))\n",
        "\n",
        "# Reduce matrices A and B to upper triangular form\n",
        "upper_A = upper_triangular(np.copy(A).astype(float))\n",
        "upper_B = upper_triangular(np.copy(B).astype(float))\n",
        "\n",
        "# Calculate the determinants\n",
        "det_A = determinant_from_upper(upper_A)\n",
        "det_B = determinant_from_upper(upper_B)\n",
        "\n",
        "# Output the results\n",
        "print(\"Upper triangular form of A:\")\n",
        "print(upper_A)\n",
        "\n",
        "print(\"\\nDeterminant of A:\", det_A)\n",
        "\n",
        "print(\"\\nUpper triangular form of B:\")\n",
        "print(upper_B)\n",
        "\n",
        "print(\"\\nDeterminant of B:\", det_B)"
      ]
    }
  ],
  "metadata": {
    "kernelspec": {
      "display_name": "Python 3",
      "language": "python",
      "name": "python3"
    },
    "language_info": {
      "codemirror_mode": {
        "name": "ipython",
        "version": 3
      },
      "file_extension": ".py",
      "mimetype": "text/x-python",
      "name": "python",
      "nbconvert_exporter": "python",
      "pygments_lexer": "ipython3",
      "version": "3.8.8"
    },
    "colab": {
      "provenance": [],
      "include_colab_link": true
    }
  },
  "nbformat": 4,
  "nbformat_minor": 5
}