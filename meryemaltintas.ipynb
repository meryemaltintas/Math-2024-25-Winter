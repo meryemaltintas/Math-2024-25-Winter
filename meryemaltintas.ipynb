{
  "cells": [
    {
      "cell_type": "markdown",
      "metadata": {
        "id": "view-in-github",
        "colab_type": "text"
      },
      "source": [
        "<a href=\"https://colab.research.google.com/github/meryemaltintas/Math-2024-25-Winter/blob/main/meryemaltintas.ipynb\" target=\"_parent\"><img src=\"https://colab.research.google.com/assets/colab-badge.svg\" alt=\"Open In Colab\"/></a>"
      ]
    },
    {
      "cell_type": "code",
      "execution_count": null,
      "id": "fdf009f6",
      "metadata": {
        "id": "fdf009f6"
      },
      "outputs": [],
      "source": [
        "import numpy as np\n",
        "\n",
        "# 2x2 matrix definition\n",
        "A = np.array([[1, 2], [3, 4]])\n",
        "print(\"Matris A:\\n\", A)\n",
        "-------------------------------------------------\n",
        "B = np.array([[5, 6], [7, 8]])\n",
        "\n",
        "# matrix addition\n",
        "C = A + B\n",
        "print(\"A + B:\\n\", C)\n",
        "-----------------------------------------------------\n",
        "# matrix multiplication\n",
        "D = np.dot(A, B)\n",
        "print(\"A * B (matrix multiplication):\\n\", D)\n",
        "-------------------------------------------------"
      ]
    },
    {
      "cell_type": "code",
      "execution_count": null,
      "id": "8dbab3a5",
      "metadata": {
        "id": "8dbab3a5"
      },
      "outputs": [],
      "source": [
        "---"
      ]
    }
  ],
  "metadata": {
    "kernelspec": {
      "display_name": "Python 3",
      "language": "python",
      "name": "python3"
    },
    "language_info": {
      "codemirror_mode": {
        "name": "ipython",
        "version": 3
      },
      "file_extension": ".py",
      "mimetype": "text/x-python",
      "name": "python",
      "nbconvert_exporter": "python",
      "pygments_lexer": "ipython3",
      "version": "3.8.8"
    },
    "colab": {
      "provenance": [],
      "include_colab_link": true
    }
  },
  "nbformat": 4,
  "nbformat_minor": 5
}