{
  "cells": [
    {
      "cell_type": "markdown",
      "metadata": {
        "id": "view-in-github",
        "colab_type": "text"
      },
      "source": [
        "<a href=\"https://colab.research.google.com/github/meryemaltintas/Math-2024-25-Winter/blob/main/Meryem_LA_Matrix_determinants_2x2_3x3_.ipynb\" target=\"_parent\"><img src=\"https://colab.research.google.com/assets/colab-badge.svg\" alt=\"Open In Colab\"/></a>"
      ]
    },
    {
      "cell_type": "code",
      "execution_count": null,
      "id": "789119f0",
      "metadata": {
        "id": "789119f0",
        "outputId": "fc3ca067-bf0d-44d0-fd09-94078a14f8a1"
      },
      "outputs": [
        {
          "name": "stdout",
          "output_type": "stream",
          "text": [
            "Determinant of A (2x2): 5.000000000000001\n",
            "Determinant of B (2x2): -1.999999999999999\n",
            "Determinant of C (2x2): -6.0\n",
            "Determinant of D (3x3): -29.99999999999999\n",
            "Determinant of E (3x3): -2.0000000000000013\n",
            "Determinant of F (3x3): 59.999999999999986\n"
          ]
        }
      ],
      "source": [
        "import numpy as np\n",
        "\n",
        "# Define the 2x2 matrices A, B, C\n",
        "A_2x2 = np.array([[2, 3], [1, 4]])\n",
        "B_2x2 = np.array([[5, 6], [7, 8]])\n",
        "C_2x2 = np.array([[-1, 2], [3, 0]])\n",
        "\n",
        "# Define the 3x3 matrices D, E, F\n",
        "D_3x3 = np.array([[1, 0, 2], [-1, 3, 1], [2, 4, -2]])\n",
        "E_3x3 = np.array([[3, 0, 1], [5, 1, 2], [5, 3, 2]])\n",
        "F_3x3 = np.array([[2, -3, 1], [1, 4, -2], [1, 5, 3]])\n",
        "\n",
        "# Calculate the determinants\n",
        "det_A = np.linalg.det(A_2x2)\n",
        "det_B = np.linalg.det(B_2x2)\n",
        "det_C = np.linalg.det(C_2x2)\n",
        "\n",
        "det_D = np.linalg.det(D_3x3)\n",
        "det_E = np.linalg.det(E_3x3)\n",
        "det_F = np.linalg.det(F_3x3)\n",
        "\n",
        "# Print the results\n",
        "print(f\"Determinant of A (2x2): {det_A}\")\n",
        "print(f\"Determinant of B (2x2): {det_B}\")\n",
        "print(f\"Determinant of C (2x2): {det_C}\")\n",
        "\n",
        "print(f\"Determinant of D (3x3): {det_D}\")\n",
        "print(f\"Determinant of E (3x3): {det_E}\")\n",
        "print(f\"Determinant of F (3x3): {det_F}\")"
      ]
    },
    {
      "cell_type": "code",
      "execution_count": null,
      "id": "772a2c28",
      "metadata": {
        "id": "772a2c28"
      },
      "outputs": [],
      "source": []
    }
  ],
  "metadata": {
    "kernelspec": {
      "display_name": "Python 3",
      "language": "python",
      "name": "python3"
    },
    "language_info": {
      "codemirror_mode": {
        "name": "ipython",
        "version": 3
      },
      "file_extension": ".py",
      "mimetype": "text/x-python",
      "name": "python",
      "nbconvert_exporter": "python",
      "pygments_lexer": "ipython3",
      "version": "3.8.8"
    },
    "colab": {
      "provenance": [],
      "include_colab_link": true
    }
  },
  "nbformat": 4,
  "nbformat_minor": 5
}