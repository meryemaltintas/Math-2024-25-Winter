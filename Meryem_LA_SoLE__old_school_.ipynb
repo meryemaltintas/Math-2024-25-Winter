{
  "cells": [
    {
      "cell_type": "markdown",
      "metadata": {
        "id": "view-in-github",
        "colab_type": "text"
      },
      "source": [
        "<a href=\"https://colab.research.google.com/github/meryemaltintas/Math-2024-25-Winter/blob/main/Meryem_LA_SoLE__old_school_.ipynb\" target=\"_parent\"><img src=\"https://colab.research.google.com/assets/colab-badge.svg\" alt=\"Open In Colab\"/></a>"
      ]
    },
    {
      "cell_type": "code",
      "execution_count": null,
      "id": "05251d5f",
      "metadata": {
        "id": "05251d5f",
        "outputId": "6413d819-4235-4fcd-937b-6ff1220bac4e"
      },
      "outputs": [
        {
          "name": "stdout",
          "output_type": "stream",
          "text": [
            "System 1 solution: x = 2.230769230769231, y = 0.8461538461538463\n",
            "System 2 solution: x = 5.0, y = -0.0\n",
            "System 3 solution: x = 8.0, y = -8.999999999999998, z = -10.999999999999998\n",
            "System 4 solution: x = 0.9999999999999998, y = 1.3877787807814457e-16, z = 1.0723745124220261e-16, t = -2.5232341468753566e-17\n"
          ]
        }
      ],
      "source": [
        "import numpy as np\n",
        "\n",
        "# System 1: 3x - 2y = 5, 2x + 3y = 7\n",
        "A = np.array([[3, -2], [2, 3]])\n",
        "b = np.array([5, 7])\n",
        "x = np.linalg.solve(A, b)\n",
        "print(f\"System 1 solution: x = {x[0]}, y = {x[1]}\")\n",
        "\n",
        "# System 2: 2x - 3y = 10, 4x + 5y = 20\n",
        "A = np.array([[2, -3], [4, 5]])\n",
        "b = np.array([10, 20])\n",
        "x = np.linalg.solve(A, b)\n",
        "print(f\"System 2 solution: x = {x[0]}, y = {x[1]}\")\n",
        "\n",
        "# System 3: 2x - y + 2z = 3, x + 2y - z = 1, 3x - y + 2z = 11\n",
        "A = np.array([[2, -1, 2], [1, 2, -1], [3, -1, 2]])\n",
        "b = np.array([3, 1, 11])\n",
        "x = np.linalg.solve(A, b)\n",
        "print(f\"System 3 solution: x = {x[0]}, y = {x[1]}, z = {x[2]}\")\n",
        "\n",
        "# System 4: 2x - 3y + 4z + 2t = 2, 3x + 2y - 5z + 3t = 3, 4x - 3y + 2z - 5t = 4, 5x + 4y - 3z + 2t = 5\n",
        "A = np.array([[2, -3, 4, 2], [3, 2, -5, 3], [4, -3, 2, -5], [5, 4, -3, 2]])\n",
        "b = np.array([2, 3, 4, 5])\n",
        "x = np.linalg.solve(A, b)\n",
        "print(f\"System 4 solution: x = {x[0]}, y = {x[1]}, z = {x[2]}, t = {x[3]}\")"
      ]
    },
    {
      "cell_type": "code",
      "execution_count": null,
      "id": "a73ad9c4",
      "metadata": {
        "id": "a73ad9c4"
      },
      "outputs": [],
      "source": []
    }
  ],
  "metadata": {
    "kernelspec": {
      "display_name": "Python 3",
      "language": "python",
      "name": "python3"
    },
    "language_info": {
      "codemirror_mode": {
        "name": "ipython",
        "version": 3
      },
      "file_extension": ".py",
      "mimetype": "text/x-python",
      "name": "python",
      "nbconvert_exporter": "python",
      "pygments_lexer": "ipython3",
      "version": "3.8.8"
    },
    "colab": {
      "provenance": [],
      "include_colab_link": true
    }
  },
  "nbformat": 4,
  "nbformat_minor": 5
}