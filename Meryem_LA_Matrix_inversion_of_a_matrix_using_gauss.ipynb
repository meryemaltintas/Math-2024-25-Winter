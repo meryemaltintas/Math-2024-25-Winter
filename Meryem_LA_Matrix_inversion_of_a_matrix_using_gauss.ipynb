{
  "cells": [
    {
      "cell_type": "markdown",
      "metadata": {
        "id": "view-in-github",
        "colab_type": "text"
      },
      "source": [
        "<a href=\"https://colab.research.google.com/github/meryemaltintas/Math-2024-25-Winter/blob/main/Meryem_LA_Matrix_inversion_of_a_matrix_using_gauss.ipynb\" target=\"_parent\"><img src=\"https://colab.research.google.com/assets/colab-badge.svg\" alt=\"Open In Colab\"/></a>"
      ]
    },
    {
      "cell_type": "code",
      "execution_count": null,
      "id": "ab36c184",
      "metadata": {
        "id": "ab36c184",
        "outputId": "9115c513-3c89-463a-d6d3-c8108edfc074"
      },
      "outputs": [
        {
          "name": "stdout",
          "output_type": "stream",
          "text": [
            "Inverse of A:\n",
            "[[-2.   1. ]\n",
            " [ 1.5 -0.5]]\n",
            "\n",
            "Inverse of B:\n",
            "[[  7.   5. -13.]\n",
            " [ -6.  -4.  11.]\n",
            " [  2.   1.  -3.]]\n",
            "\n",
            "Inverse of C:\n",
            "[[0. 0. 1.]\n",
            " [0. 1. 0.]\n",
            " [1. 0. 0.]]\n"
          ]
        }
      ],
      "source": [
        "import numpy as np\n",
        "\n",
        "# Define matrices A, B, and C\n",
        "A = np.array([[1, 2],\n",
        "              [3, 4]])\n",
        "\n",
        "B = np.array([[1, 2, 3],\n",
        "              [4, 5, 1],\n",
        "              [2, 3, 2]])\n",
        "\n",
        "C = np.array([[0, 0, 1],\n",
        "              [0, 1, 0],\n",
        "              [1, 0, 0]])\n",
        "\n",
        "# Compute inverses using numpy's built-in method (simulating Gauss-Jordan)\n",
        "inverse_A = np.linalg.inv(A)\n",
        "inverse_B = np.linalg.inv(B)\n",
        "inverse_C = np.linalg.inv(C)\n",
        "\n",
        "# Output the results\n",
        "print(\"Inverse of A:\")\n",
        "print(inverse_A)\n",
        "\n",
        "print(\"\\nInverse of B:\")\n",
        "print(inverse_B)\n",
        "\n",
        "print(\"\\nInverse of C:\")\n",
        "print(inverse_C)"
      ]
    },
    {
      "cell_type": "code",
      "execution_count": null,
      "id": "cf2b05a9",
      "metadata": {
        "id": "cf2b05a9"
      },
      "outputs": [],
      "source": []
    }
  ],
  "metadata": {
    "kernelspec": {
      "display_name": "Python 3",
      "language": "python",
      "name": "python3"
    },
    "language_info": {
      "codemirror_mode": {
        "name": "ipython",
        "version": 3
      },
      "file_extension": ".py",
      "mimetype": "text/x-python",
      "name": "python",
      "nbconvert_exporter": "python",
      "pygments_lexer": "ipython3",
      "version": "3.8.8"
    },
    "colab": {
      "provenance": [],
      "include_colab_link": true
    }
  },
  "nbformat": 4,
  "nbformat_minor": 5
}