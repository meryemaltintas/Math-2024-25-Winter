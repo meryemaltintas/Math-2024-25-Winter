{
  "cells": [
    {
      "cell_type": "markdown",
      "metadata": {
        "id": "view-in-github",
        "colab_type": "text"
      },
      "source": [
        "<a href=\"https://colab.research.google.com/github/meryemaltintas/Math-2024-25-Winter/blob/main/MeryemAltintas_(1).ipynb\" target=\"_parent\"><img src=\"https://colab.research.google.com/assets/colab-badge.svg\" alt=\"Open In Colab\"/></a>"
      ]
    },
    {
      "cell_type": "code",
      "execution_count": null,
      "id": "9b6d7db3",
      "metadata": {
        "id": "9b6d7db3"
      },
      "outputs": [],
      "source": [
        "# number1=10\n",
        "number2=3.8\n",
        "print(number1)\n",
        "\n",
        "\n"
      ]
    },
    {
      "cell_type": "code",
      "execution_count": null,
      "id": "a3a68ed9",
      "metadata": {
        "id": "a3a68ed9"
      },
      "outputs": [],
      "source": []
    },
    {
      "cell_type": "code",
      "execution_count": null,
      "id": "8597f5d7",
      "metadata": {
        "id": "8597f5d7",
        "outputId": "276afcc5-8315-48b4-a0ae-320cd318d741"
      },
      "outputs": [
        {
          "name": "stdout",
          "output_type": "stream",
          "text": [
            "13.8\n",
            "6.2\n",
            "38.0\n",
            "2.6315789473684212\n",
            "2.0\n",
            "6309.57344480193\n",
            "2.4000000000000004\n"
          ]
        },
        {
          "ename": "NameError",
          "evalue": "name 'number' is not defined",
          "output_type": "error",
          "traceback": [
            "\u001b[1;31m---------------------------------------------------------------------------\u001b[0m",
            "\u001b[1;31mNameError\u001b[0m                                 Traceback (most recent call last)",
            "\u001b[1;32m<ipython-input-2-cd81f46a3bf6>\u001b[0m in \u001b[0;36m<module>\u001b[1;34m\u001b[0m\n\u001b[0;32m     14\u001b[0m \u001b[0mprint\u001b[0m\u001b[1;33m(\u001b[0m\u001b[0mnumber1\u001b[0m\u001b[1;33m%\u001b[0m\u001b[0mnumber2\u001b[0m\u001b[1;33m)\u001b[0m\u001b[1;33m\u001b[0m\u001b[1;33m\u001b[0m\u001b[0m\n\u001b[0;32m     15\u001b[0m \u001b[1;31m#round\u001b[0m\u001b[1;33m\u001b[0m\u001b[1;33m\u001b[0m\u001b[1;33m\u001b[0m\u001b[0m\n\u001b[1;32m---> 16\u001b[1;33m \u001b[0mprint\u001b[0m\u001b[1;33m(\u001b[0m\u001b[0mround\u001b[0m\u001b[1;33m(\u001b[0m\u001b[0mnumber\u001b[0m\u001b[1;33m,\u001b[0m\u001b[1;36m1\u001b[0m\u001b[1;33m)\u001b[0m\u001b[1;33m)\u001b[0m\u001b[1;33m\u001b[0m\u001b[1;33m\u001b[0m\u001b[0m\n\u001b[0m",
            "\u001b[1;31mNameError\u001b[0m: name 'number' is not defined"
          ]
        }
      ],
      "source": [
        "#COLLECTION ''+''\n",
        "print(number1+number2)\n",
        "#SUBTRACTION''-''\n",
        "print(number1-number2)\n",
        "#MULTIPLICATION ''*''\n",
        "print(number1*number2)\n",
        "#DIVISION ''/\n",
        "print(number1/number2)\n",
        "#Integer division\n",
        "print(number1//number2)\n",
        "#EXPONENT ''**''\n",
        "print(number1**number2)\n",
        "#mod ''%''\n",
        "print(number1%number2)\n",
        "#round\n",
        "print(round(number,1))\n"
      ]
    },
    {
      "cell_type": "code",
      "execution_count": null,
      "id": "b7478600",
      "metadata": {
        "scrolled": true,
        "id": "b7478600",
        "outputId": "efc5bec0-6644-41da-82a5-31456ba37ca4"
      },
      "outputs": [
        {
          "name": "stdout",
          "output_type": "stream",
          "text": [
            "False\n",
            "True\n",
            "True\n",
            "False\n"
          ]
        }
      ],
      "source": [
        "#EQUALS\n",
        "print(number1==number2)\n",
        "#NOT\n",
        "print(number1!=number2)\n",
        "#BIG\n",
        "print(number1>number2)\n",
        "#LITTLE\n",
        "print(number1<number2)\n"
      ]
    },
    {
      "cell_type": "code",
      "execution_count": null,
      "id": "4de16fe4",
      "metadata": {
        "id": "4de16fe4"
      },
      "outputs": [],
      "source": [
        "number1='100'\n",
        "number2='100'\n",
        "print(number1 == number2)\n"
      ]
    },
    {
      "cell_type": "code",
      "execution_count": null,
      "id": "6308e804",
      "metadata": {
        "id": "6308e804",
        "outputId": "50ef3e8f-7153-4467-f518-0733ff252ef6"
      },
      "outputs": [
        {
          "name": "stdout",
          "output_type": "stream",
          "text": [
            "my name is Meryem\n"
          ]
        }
      ],
      "source": [
        "print('my name is Meryem')"
      ]
    },
    {
      "cell_type": "code",
      "execution_count": null,
      "id": "92d876ff",
      "metadata": {
        "id": "92d876ff",
        "outputId": "5a02ca28-598e-43f8-bc09-7d35215634be"
      },
      "outputs": [
        {
          "name": "stdout",
          "output_type": "stream",
          "text": [
            "hello everyone\n",
            "my name is Meryem\n"
          ]
        }
      ],
      "source": [
        "print('hello everyone')\n",
        "print('my name is Meryem')"
      ]
    },
    {
      "cell_type": "code",
      "execution_count": null,
      "id": "9474017e",
      "metadata": {
        "id": "9474017e",
        "outputId": "444e9620-de34-44bc-9564-dbc3a56c340c"
      },
      "outputs": [
        {
          "name": "stdout",
          "output_type": "stream",
          "text": [
            "hello\n",
            "everyone\n",
            "my name is\n",
            "Meryem\n"
          ]
        }
      ],
      "source": [
        "print('hello\\neveryone')\n",
        "print('my name is\\nMeryem')"
      ]
    },
    {
      "cell_type": "code",
      "execution_count": null,
      "id": "7036dc12",
      "metadata": {
        "id": "7036dc12",
        "outputId": "d4fb0589-97ff-4860-8265-e465e02c70a3"
      },
      "outputs": [
        {
          "name": "stdout",
          "output_type": "stream",
          "text": [
            "hello\teveyone\n",
            "my name is\tMeryem\n"
          ]
        }
      ],
      "source": [
        "print('hello\\teveyone')\n",
        "print('my name is\\tMeryem')"
      ]
    },
    {
      "cell_type": "code",
      "execution_count": null,
      "id": "01736055",
      "metadata": {
        "id": "01736055",
        "outputId": "1202b1c8-2e47-4b06-aaa4-fbb8843a7a02"
      },
      "outputs": [
        {
          "name": "stdout",
          "output_type": "stream",
          "text": [
            "hello world\n"
          ]
        }
      ],
      "source": [
        "text='hello world'\n",
        "print(text)"
      ]
    },
    {
      "cell_type": "code",
      "execution_count": null,
      "id": "688befbd",
      "metadata": {
        "id": "688befbd",
        "outputId": "fde54e4b-7052-46b8-c7a3-8f3a38fb58b3"
      },
      "outputs": [
        {
          "name": "stdout",
          "output_type": "stream",
          "text": [
            "helloeveryone\n"
          ]
        }
      ],
      "source": [
        "text='hello'\n",
        "# If we code in this way, there is no space between the two articles.\n",
        "text2='everyone'\n",
        "print(text + text2)"
      ]
    },
    {
      "cell_type": "code",
      "execution_count": null,
      "id": "6a8238ff",
      "metadata": {
        "id": "6a8238ff",
        "outputId": "60cd11cd-059f-4fed-8e2b-a3aaa66da935"
      },
      "outputs": [
        {
          "name": "stdout",
          "output_type": "stream",
          "text": [
            "hello everyone\n"
          ]
        }
      ],
      "source": [
        "text='hello'\n",
        "text2='everyone'\n",
        "print(text + ' ' + text2)\n",
        "# This form of software will be more accurate."
      ]
    },
    {
      "cell_type": "code",
      "execution_count": null,
      "id": "a2c1d80d",
      "metadata": {
        "id": "a2c1d80d",
        "outputId": "a4b041ff-c776-441d-ac06-e7e612ae4b27"
      },
      "outputs": [
        {
          "name": "stdout",
          "output_type": "stream",
          "text": [
            "h\n",
            "v\n",
            "l\n",
            "e\n"
          ]
        }
      ],
      "source": [
        "print(text[0])\n",
        "print(text2[1])\n",
        "print(text[-2])\n",
        "print(text2[-1])"
      ]
    },
    {
      "cell_type": "code",
      "execution_count": null,
      "id": "a60d0c1b",
      "metadata": {
        "id": "a60d0c1b"
      },
      "outputs": [],
      "source": []
    }
  ],
  "metadata": {
    "kernelspec": {
      "display_name": "Python 3",
      "language": "python",
      "name": "python3"
    },
    "language_info": {
      "codemirror_mode": {
        "name": "ipython",
        "version": 3
      },
      "file_extension": ".py",
      "mimetype": "text/x-python",
      "name": "python",
      "nbconvert_exporter": "python",
      "pygments_lexer": "ipython3",
      "version": "3.8.8"
    },
    "colab": {
      "provenance": [],
      "include_colab_link": true
    }
  },
  "nbformat": 4,
  "nbformat_minor": 5
}