{
  "cells": [
    {
      "cell_type": "markdown",
      "metadata": {
        "id": "view-in-github",
        "colab_type": "text"
      },
      "source": [
        "<a href=\"https://colab.research.google.com/github/meryemaltintas/Math-2024-25-Winter/blob/main/Meryem_LA_Matrix_determinant_Laplace_.ipynb\" target=\"_parent\"><img src=\"https://colab.research.google.com/assets/colab-badge.svg\" alt=\"Open In Colab\"/></a>"
      ]
    },
    {
      "cell_type": "code",
      "execution_count": null,
      "id": "9287af99",
      "metadata": {
        "id": "9287af99",
        "outputId": "2a46f5b7-5b36-4a2b-93c8-a397163f59a5"
      },
      "outputs": [
        {
          "name": "stdout",
          "output_type": "stream",
          "text": [
            "Determinant of A: -5.000000000000001\n",
            "Determinant of B: -10.000000000000002\n",
            "Determinant of C: -64.99999999999999\n",
            "Determinant of D: 39.99999999999991\n"
          ]
        }
      ],
      "source": [
        "import numpy as np\n",
        "\n",
        "# Define matrices A, B, C, D\n",
        "A = np.array([[2, 3, 1], [1, 4, 0], [3, 2, 1]])\n",
        "B = np.array([[2, 3, 1], [1, 4, 0], [3, 2, 0]])\n",
        "C = np.array([[2, 3, 1, 4], [1, 1, 0, 6], [3, 2, 1, 5], [2, 1, 4, 0]])\n",
        "D = np.array([[2, 3, 1, 4, 5], [1, 4, 0, 7, 0], [3, 0, 1, 0, 0], [2, 1, 4, 3, 5], [1, 2, 3, 4, 5]])\n",
        "\n",
        "# Calculate determinants\n",
        "det_A = np.linalg.det(A)\n",
        "det_B = np.linalg.det(B)\n",
        "det_C = np.linalg.det(C)\n",
        "det_D = np.linalg.det(D)\n",
        "\n",
        "print(f\"Determinant of A: {det_A}\")\n",
        "print(f\"Determinant of B: {det_B}\")\n",
        "print(f\"Determinant of C: {det_C}\")\n",
        "print(f\"Determinant of D: {det_D}\")"
      ]
    },
    {
      "cell_type": "code",
      "execution_count": null,
      "id": "a7b7d30f",
      "metadata": {
        "id": "a7b7d30f"
      },
      "outputs": [],
      "source": []
    }
  ],
  "metadata": {
    "kernelspec": {
      "display_name": "Python 3",
      "language": "python",
      "name": "python3"
    },
    "language_info": {
      "codemirror_mode": {
        "name": "ipython",
        "version": 3
      },
      "file_extension": ".py",
      "mimetype": "text/x-python",
      "name": "python",
      "nbconvert_exporter": "python",
      "pygments_lexer": "ipython3",
      "version": "3.8.8"
    },
    "colab": {
      "provenance": [],
      "include_colab_link": true
    }
  },
  "nbformat": 4,
  "nbformat_minor": 5
}