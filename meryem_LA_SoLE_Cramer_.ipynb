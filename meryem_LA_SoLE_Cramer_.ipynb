{
  "cells": [
    {
      "cell_type": "markdown",
      "metadata": {
        "id": "view-in-github",
        "colab_type": "text"
      },
      "source": [
        "<a href=\"https://colab.research.google.com/github/meryemaltintas/Math-2024-25-Winter/blob/main/meryem_LA_SoLE_Cramer_.ipynb\" target=\"_parent\"><img src=\"https://colab.research.google.com/assets/colab-badge.svg\" alt=\"Open In Colab\"/></a>"
      ]
    },
    {
      "cell_type": "code",
      "execution_count": null,
      "id": "3943a2e4",
      "metadata": {
        "id": "3943a2e4"
      },
      "outputs": [],
      "source": [
        "import sympy as sp\n",
        "\n",
        "# Define symbols\n",
        "x, y, z = sp.symbols('x y z')\n",
        "\n",
        "# Define the system of equations\n",
        "eq1 = sp.Eq(2*x + 3*y + z, 1)\n",
        "eq2 = sp.Eq(3*x + 2*y + 2*z, 2)\n",
        "eq3 = sp.Eq(x + y + z, 3)\n",
        "\n",
        "# Coefficient matrix of the system\n",
        "A = sp.Matrix([[2, 3, 1], [3, 2, 2], [1, 1, 1]])\n",
        "# Free terms vector\n",
        "b = sp.Matrix([1, 2, 3])"
      ]
    },
    {
      "cell_type": "code",
      "execution_count": null,
      "id": "6afb3e4a",
      "metadata": {
        "id": "6afb3e4a",
        "outputId": "060ae71a-e490-48ea-dc79-04232ed402af"
      },
      "outputs": [
        {
          "data": {
            "text/latex": [
              "$\\displaystyle \\left[\\begin{matrix}2 & 3 & 1\\\\3 & 2 & 2\\\\1 & 1 & 1\\end{matrix}\\right]$"
            ],
            "text/plain": [
              "Matrix([\n",
              "[2, 3, 1],\n",
              "[3, 2, 2],\n",
              "[1, 1, 1]])"
            ]
          },
          "execution_count": 3,
          "metadata": {},
          "output_type": "execute_result"
        }
      ],
      "source": [
        "A"
      ]
    },
    {
      "cell_type": "code",
      "execution_count": null,
      "id": "dd75debb",
      "metadata": {
        "id": "dd75debb",
        "outputId": "b99d6c07-9529-4eca-d6aa-287317473d42"
      },
      "outputs": [
        {
          "data": {
            "text/latex": [
              "$\\displaystyle \\left[\\begin{matrix}1\\\\2\\\\3\\end{matrix}\\right]$"
            ],
            "text/plain": [
              "Matrix([\n",
              "[1],\n",
              "[2],\n",
              "[3]])"
            ]
          },
          "execution_count": 14,
          "metadata": {},
          "output_type": "execute_result"
        }
      ],
      "source": [
        "b"
      ]
    },
    {
      "cell_type": "code",
      "execution_count": null,
      "id": "a1291af6",
      "metadata": {
        "id": "a1291af6",
        "outputId": "a21b1170-2732-42c9-a19b-b3cc33d4a9d4"
      },
      "outputs": [
        {
          "data": {
            "text/latex": [
              "$\\displaystyle \\left[\\begin{matrix}1 & 3 & 1\\\\2 & 2 & 2\\\\3 & 1 & 1\\end{matrix}\\right]$"
            ],
            "text/plain": [
              "Matrix([\n",
              "[1, 3, 1],\n",
              "[2, 2, 2],\n",
              "[3, 1, 1]])"
            ]
          },
          "execution_count": 15,
          "metadata": {},
          "output_type": "execute_result"
        }
      ],
      "source": [
        "import sympy as sp\n",
        "\n",
        "x, y, z = sp.symbols('x y z')\n",
        "\n",
        "A = sp.Matrix([[2, 3, 1], [3, 2, 2], [1, 1, 1]])\n",
        "\n",
        "b = sp.Matrix([1, 2, 3])\n",
        "\n",
        "A_1 = A.copy()\n",
        "A_1[:, 0] = b\n",
        "A_1\n"
      ]
    },
    {
      "cell_type": "code",
      "execution_count": null,
      "id": "9a880285",
      "metadata": {
        "id": "9a880285",
        "outputId": "d328d886-6ad6-4482-b826-3b3f37d78c5b"
      },
      "outputs": [
        {
          "data": {
            "text/latex": [
              "$\\displaystyle -4$"
            ],
            "text/plain": [
              "-4"
            ]
          },
          "execution_count": 16,
          "metadata": {},
          "output_type": "execute_result"
        }
      ],
      "source": [
        "import sympy as sp\n",
        "x, y, z = sp.symbols('x y z')\n",
        "\n",
        "A = sp.Matrix([[2, 3, 1], [3, 2, 2], [1, 1, 1]])\n",
        "\n",
        "b = sp.Matrix([1, 2, 3])\n",
        "\n",
        "A_1 = A.copy()\n",
        "A_1[:, 0] = b\n",
        "\n",
        "det_A_1 = A_1.det()\n",
        "\n",
        "sol_x = det_A_1 / A.det()\n",
        "\n",
        "sol_x"
      ]
    },
    {
      "cell_type": "code",
      "execution_count": null,
      "id": "1d0f30ce",
      "metadata": {
        "id": "1d0f30ce",
        "outputId": "9651bc2f-fb50-4135-b20f-32071eb6afe5"
      },
      "outputs": [
        {
          "data": {
            "text/latex": [
              "$\\displaystyle \\left[\\begin{matrix}2 & 1 & 1\\\\3 & 2 & 2\\\\1 & 3 & 1\\end{matrix}\\right]$"
            ],
            "text/plain": [
              "Matrix([\n",
              "[2, 1, 1],\n",
              "[3, 2, 2],\n",
              "[1, 3, 1]])"
            ]
          },
          "execution_count": 17,
          "metadata": {},
          "output_type": "execute_result"
        }
      ],
      "source": [
        "import sympy as sp\n",
        "\n",
        "x, y, z = sp.symbols('x y z')\n",
        "A = sp.Matrix([[2, 3, 1], [3, 2, 2], [1, 1, 1]])\n",
        "b = sp.Matrix([1, 2, 3])\n",
        "\n",
        "A_2 = A.copy()\n",
        "A_2[:, 1] = b\n",
        "\n",
        "A_2"
      ]
    },
    {
      "cell_type": "code",
      "execution_count": null,
      "id": "6ad0f8d0",
      "metadata": {
        "id": "6ad0f8d0",
        "outputId": "ac975038-6c3c-4a7b-a996-2047341659ee"
      },
      "outputs": [
        {
          "data": {
            "text/latex": [
              "$\\displaystyle 1$"
            ],
            "text/plain": [
              "1"
            ]
          },
          "execution_count": 18,
          "metadata": {},
          "output_type": "execute_result"
        }
      ],
      "source": [
        "import sympy as sp\n",
        "\n",
        "x, y, z = sp.symbols('x y z')\n",
        "\n",
        "A = sp.Matrix([[2, 3, 1], [3, 2, 2], [1, 1, 1]])\n",
        "b = sp.Matrix([1, 2, 3])\n",
        "\n",
        "A_2 = A.copy()\n",
        "A_2[:, 1] = b\n",
        "det_A_2 = A_2.det()\n",
        "\n",
        "sol_y = det_A_2 / A.det()\n",
        "\n",
        "sol_y"
      ]
    },
    {
      "cell_type": "code",
      "execution_count": null,
      "id": "bf344c32",
      "metadata": {
        "id": "bf344c32",
        "outputId": "0f1ddda3-825e-4d52-f36d-89c3a6d1ebb1"
      },
      "outputs": [
        {
          "data": {
            "text/latex": [
              "$\\displaystyle 6$"
            ],
            "text/plain": [
              "6"
            ]
          },
          "execution_count": 19,
          "metadata": {},
          "output_type": "execute_result"
        }
      ],
      "source": [
        "import sympy as sp\n",
        "\n",
        "x, y, z = sp.symbols('x y z')\n",
        "\n",
        "A = sp.Matrix([[2, 3, 1], [3, 2, 2], [1, 1, 1]])\n",
        "b = sp.Matrix([1, 2, 3])\n",
        "\n",
        "A_3 = A.copy()\n",
        "A_3[:, 2] = b\n",
        "\n",
        "det_A_3 = A_3.det()\n",
        "\n",
        "sol_z = det_A_3 / A.det()\n",
        "sol_z"
      ]
    },
    {
      "cell_type": "code",
      "execution_count": null,
      "id": "876115b4",
      "metadata": {
        "id": "876115b4"
      },
      "outputs": [],
      "source": []
    }
  ],
  "metadata": {
    "kernelspec": {
      "display_name": "Python 3",
      "language": "python",
      "name": "python3"
    },
    "language_info": {
      "codemirror_mode": {
        "name": "ipython",
        "version": 3
      },
      "file_extension": ".py",
      "mimetype": "text/x-python",
      "name": "python",
      "nbconvert_exporter": "python",
      "pygments_lexer": "ipython3",
      "version": "3.8.8"
    },
    "colab": {
      "provenance": [],
      "include_colab_link": true
    }
  },
  "nbformat": 4,
  "nbformat_minor": 5
}